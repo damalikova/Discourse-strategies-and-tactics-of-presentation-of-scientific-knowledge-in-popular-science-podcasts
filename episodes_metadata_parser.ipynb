{
 "cells": [
  {
   "cell_type": "code",
   "execution_count": 1,
   "metadata": {},
   "outputs": [],
   "source": [
    "from selenium import webdriver\n",
    "from tqdm.notebook import tqdm\n",
    "from time import sleep\n",
    "import pandas as pd\n",
    "import re"
   ]
  },
  {
   "cell_type": "code",
   "execution_count": 12,
   "metadata": {},
   "outputs": [],
   "source": [
    "driver = webdriver.Chrome('chromedriver')\n",
    "driver.get('https://music.yandex.ru/non-music/category/scienceandeducation_science/albums')"
   ]
  },
  {
   "cell_type": "code",
   "execution_count": 13,
   "metadata": {},
   "outputs": [
    {
     "name": "stdout",
     "output_type": "stream",
     "text": [
      "<class 'pandas.core.frame.DataFrame'>\n",
      "RangeIndex: 103 entries, 0 to 102\n",
      "Data columns (total 7 columns):\n",
      " #   Column              Non-Null Count  Dtype \n",
      "---  ------              --------------  ----- \n",
      " 0   Unnamed: 0          103 non-null    int64 \n",
      " 1   Unnamed: 0.1        103 non-null    int64 \n",
      " 2   Header              103 non-null    object\n",
      " 3   Likes               103 non-null    int64 \n",
      " 4   Link                103 non-null    object\n",
      " 5   Number of Episodes  103 non-null    int64 \n",
      " 6   Description         103 non-null    object\n",
      "dtypes: int64(4), object(3)\n",
      "memory usage: 5.8+ KB\n"
     ]
    }
   ],
   "source": [
    "podcasts = pd.read_excel('podcasts_preprocessed.xlsx')\n",
    "podcasts.info()"
   ]
  },
  {
   "cell_type": "code",
   "execution_count": 14,
   "metadata": {},
   "outputs": [],
   "source": [
    "podcasts = podcasts.drop(columns=['Unnamed: 0', 'Unnamed: 0.1'])"
   ]
  },
  {
   "cell_type": "code",
   "execution_count": 15,
   "metadata": {},
   "outputs": [],
   "source": [
    "episodes = pd.DataFrame(columns=['Title', 'Podcast', 'Duration', 'Link'])"
   ]
  },
  {
   "cell_type": "code",
   "execution_count": 16,
   "metadata": {},
   "outputs": [],
   "source": [
    "# durations вроде рабочие\n",
    "def get_episodes_metadata(podcasts_df):\n",
    "    \n",
    "    global episodes\n",
    "    \n",
    "    for link in podcasts_df['Link']:\n",
    "\n",
    "        driver.get(link)\n",
    "        screen_height = driver.execute_script(\"return window.screen.height;\")\n",
    "        i = 0\n",
    "        link_index = podcasts_df.index[podcasts_df['Link'] == link][0]\n",
    "        podcast = podcasts_df['Header'][link_index]\n",
    "        titles, podcasts, durations, links = [], [], [], []\n",
    "        \n",
    "        while True:\n",
    "            \n",
    "            driver.execute_script(f\"window.scrollTo(0, {screen_height}*{i});\") \n",
    "            i += 1\n",
    "            sleep(0.5)\n",
    "            \n",
    "            title_elements = driver.find_elements_by_xpath('//a[@class=\"d-track__title deco-link deco-link_stronger line-clamp\"]')\n",
    "            titles = [title_elements[i].text for i in range(len(title_elements)) if title_elements[i].text not in titles]\n",
    "            \n",
    "            duration_elements = driver.find_elements_by_xpath('//span[@class=\"typo-track deco-typo-secondary\"]')\n",
    "            durations = [duration_elements[i].text for i in range(len(duration_elements))]\n",
    "            \n",
    "            link_elements = driver.find_elements_by_xpath('//*[contains(@href,\"/track/\")]')\n",
    "            links = [link_elements[i].get_attribute('href') for i in range(len(link_elements))]\n",
    "            \n",
    "            scroll_height = driver.execute_script(\"return document.body.scrollHeight;\")  \n",
    "            if screen_height * i > scroll_height:\n",
    "                break\n",
    "        \n",
    "        for i in range(len(titles)):\n",
    "       \n",
    "            ep = {'Title': titles[i], \n",
    "                  'Podcast': podcast, \n",
    "                  'Duration': durations[i],\n",
    "                  'Link': links[i]}\n",
    "\n",
    "                   \n",
    "            episodes = episodes.append(ep, ignore_index=True)\n",
    "        \n",
    "        print(f'{link_index + 1} out of {podcasts_df.shape[0]} done, {len(titles)} episodes added')\n"
   ]
  },
  {
   "cell_type": "code",
   "execution_count": 17,
   "metadata": {},
   "outputs": [
    {
     "name": "stderr",
     "output_type": "stream",
     "text": [
      "C:\\Users\\Daria\\AppData\\Local\\Temp/ipykernel_12688/1118650448.py:21: DeprecationWarning: find_elements_by_* commands are deprecated. Please use find_elements() instead\n",
      "  title_elements = driver.find_elements_by_xpath('//a[@class=\"d-track__title deco-link deco-link_stronger line-clamp\"]')\n",
      "C:\\Users\\Daria\\AppData\\Local\\Temp/ipykernel_12688/1118650448.py:24: DeprecationWarning: find_elements_by_* commands are deprecated. Please use find_elements() instead\n",
      "  duration_elements = driver.find_elements_by_xpath('//span[@class=\"typo-track deco-typo-secondary\"]')\n",
      "C:\\Users\\Daria\\AppData\\Local\\Temp/ipykernel_12688/1118650448.py:27: DeprecationWarning: find_elements_by_* commands are deprecated. Please use find_elements() instead\n",
      "  link_elements = driver.find_elements_by_xpath('//*[contains(@href,\"/track/\")]')\n"
     ]
    },
    {
     "name": "stdout",
     "output_type": "stream",
     "text": [
      "1 out of 103 done, 17 episodes added\n",
      "2 out of 103 done, 102 episodes added\n",
      "3 out of 103 done, 103 episodes added\n",
      "4 out of 103 done, 15 episodes added\n",
      "5 out of 103 done, 44 episodes added\n",
      "6 out of 103 done, 57 episodes added\n",
      "7 out of 103 done, 103 episodes added\n",
      "8 out of 103 done, 103 episodes added\n",
      "9 out of 103 done, 102 episodes added\n"
     ]
    },
    {
     "ename": "KeyboardInterrupt",
     "evalue": "",
     "output_type": "error",
     "traceback": [
      "\u001b[1;31m---------------------------------------------------------------------------\u001b[0m",
      "\u001b[1;31mKeyboardInterrupt\u001b[0m                         Traceback (most recent call last)",
      "\u001b[1;32m~\\AppData\\Local\\Temp/ipykernel_12688/2275960298.py\u001b[0m in \u001b[0;36m<module>\u001b[1;34m\u001b[0m\n\u001b[1;32m----> 1\u001b[1;33m \u001b[0mget_episodes_metadata\u001b[0m\u001b[1;33m(\u001b[0m\u001b[0mpodcasts\u001b[0m\u001b[1;33m)\u001b[0m\u001b[1;33m\u001b[0m\u001b[1;33m\u001b[0m\u001b[0m\n\u001b[0m",
      "\u001b[1;32m~\\AppData\\Local\\Temp/ipykernel_12688/1118650448.py\u001b[0m in \u001b[0;36mget_episodes_metadata\u001b[1;34m(podcasts_df)\u001b[0m\n\u001b[0;32m     26\u001b[0m \u001b[1;33m\u001b[0m\u001b[0m\n\u001b[0;32m     27\u001b[0m             \u001b[0mlink_elements\u001b[0m \u001b[1;33m=\u001b[0m \u001b[0mdriver\u001b[0m\u001b[1;33m.\u001b[0m\u001b[0mfind_elements_by_xpath\u001b[0m\u001b[1;33m(\u001b[0m\u001b[1;34m'//*[contains(@href,\"/track/\")]'\u001b[0m\u001b[1;33m)\u001b[0m\u001b[1;33m\u001b[0m\u001b[1;33m\u001b[0m\u001b[0m\n\u001b[1;32m---> 28\u001b[1;33m             \u001b[0mlinks\u001b[0m \u001b[1;33m=\u001b[0m \u001b[1;33m[\u001b[0m\u001b[0mlink_elements\u001b[0m\u001b[1;33m[\u001b[0m\u001b[0mi\u001b[0m\u001b[1;33m]\u001b[0m\u001b[1;33m.\u001b[0m\u001b[0mget_attribute\u001b[0m\u001b[1;33m(\u001b[0m\u001b[1;34m'href'\u001b[0m\u001b[1;33m)\u001b[0m \u001b[1;32mfor\u001b[0m \u001b[0mi\u001b[0m \u001b[1;32min\u001b[0m \u001b[0mrange\u001b[0m\u001b[1;33m(\u001b[0m\u001b[0mlen\u001b[0m\u001b[1;33m(\u001b[0m\u001b[0mlink_elements\u001b[0m\u001b[1;33m)\u001b[0m\u001b[1;33m)\u001b[0m\u001b[1;33m]\u001b[0m\u001b[1;33m\u001b[0m\u001b[1;33m\u001b[0m\u001b[0m\n\u001b[0m\u001b[0;32m     29\u001b[0m \u001b[1;33m\u001b[0m\u001b[0m\n\u001b[0;32m     30\u001b[0m             \u001b[0mscroll_height\u001b[0m \u001b[1;33m=\u001b[0m \u001b[0mdriver\u001b[0m\u001b[1;33m.\u001b[0m\u001b[0mexecute_script\u001b[0m\u001b[1;33m(\u001b[0m\u001b[1;34m\"return document.body.scrollHeight;\"\u001b[0m\u001b[1;33m)\u001b[0m\u001b[1;33m\u001b[0m\u001b[1;33m\u001b[0m\u001b[0m\n",
      "\u001b[1;32m~\\AppData\\Local\\Temp/ipykernel_12688/1118650448.py\u001b[0m in \u001b[0;36m<listcomp>\u001b[1;34m(.0)\u001b[0m\n\u001b[0;32m     26\u001b[0m \u001b[1;33m\u001b[0m\u001b[0m\n\u001b[0;32m     27\u001b[0m             \u001b[0mlink_elements\u001b[0m \u001b[1;33m=\u001b[0m \u001b[0mdriver\u001b[0m\u001b[1;33m.\u001b[0m\u001b[0mfind_elements_by_xpath\u001b[0m\u001b[1;33m(\u001b[0m\u001b[1;34m'//*[contains(@href,\"/track/\")]'\u001b[0m\u001b[1;33m)\u001b[0m\u001b[1;33m\u001b[0m\u001b[1;33m\u001b[0m\u001b[0m\n\u001b[1;32m---> 28\u001b[1;33m             \u001b[0mlinks\u001b[0m \u001b[1;33m=\u001b[0m \u001b[1;33m[\u001b[0m\u001b[0mlink_elements\u001b[0m\u001b[1;33m[\u001b[0m\u001b[0mi\u001b[0m\u001b[1;33m]\u001b[0m\u001b[1;33m.\u001b[0m\u001b[0mget_attribute\u001b[0m\u001b[1;33m(\u001b[0m\u001b[1;34m'href'\u001b[0m\u001b[1;33m)\u001b[0m \u001b[1;32mfor\u001b[0m \u001b[0mi\u001b[0m \u001b[1;32min\u001b[0m \u001b[0mrange\u001b[0m\u001b[1;33m(\u001b[0m\u001b[0mlen\u001b[0m\u001b[1;33m(\u001b[0m\u001b[0mlink_elements\u001b[0m\u001b[1;33m)\u001b[0m\u001b[1;33m)\u001b[0m\u001b[1;33m]\u001b[0m\u001b[1;33m\u001b[0m\u001b[1;33m\u001b[0m\u001b[0m\n\u001b[0m\u001b[0;32m     29\u001b[0m \u001b[1;33m\u001b[0m\u001b[0m\n\u001b[0;32m     30\u001b[0m             \u001b[0mscroll_height\u001b[0m \u001b[1;33m=\u001b[0m \u001b[0mdriver\u001b[0m\u001b[1;33m.\u001b[0m\u001b[0mexecute_script\u001b[0m\u001b[1;33m(\u001b[0m\u001b[1;34m\"return document.body.scrollHeight;\"\u001b[0m\u001b[1;33m)\u001b[0m\u001b[1;33m\u001b[0m\u001b[1;33m\u001b[0m\u001b[0m\n",
      "\u001b[1;32m~\\anaconda3\\lib\\site-packages\\selenium\\webdriver\\remote\\webelement.py\u001b[0m in \u001b[0;36mget_attribute\u001b[1;34m(self, name)\u001b[0m\n\u001b[0;32m    153\u001b[0m         \"\"\"\n\u001b[0;32m    154\u001b[0m \u001b[1;33m\u001b[0m\u001b[0m\n\u001b[1;32m--> 155\u001b[1;33m         attribute_value = self.parent.execute_script(\n\u001b[0m\u001b[0;32m    156\u001b[0m             \u001b[1;34m\"return (%s).apply(null, arguments);\"\u001b[0m \u001b[1;33m%\u001b[0m \u001b[0mgetAttribute_js\u001b[0m\u001b[1;33m,\u001b[0m\u001b[1;33m\u001b[0m\u001b[1;33m\u001b[0m\u001b[0m\n\u001b[0;32m    157\u001b[0m             self, name)\n",
      "\u001b[1;32m~\\anaconda3\\lib\\site-packages\\selenium\\webdriver\\remote\\webdriver.py\u001b[0m in \u001b[0;36mexecute_script\u001b[1;34m(self, script, *args)\u001b[0m\n\u001b[0;32m    876\u001b[0m         \u001b[0mcommand\u001b[0m \u001b[1;33m=\u001b[0m \u001b[0mCommand\u001b[0m\u001b[1;33m.\u001b[0m\u001b[0mW3C_EXECUTE_SCRIPT\u001b[0m\u001b[1;33m\u001b[0m\u001b[1;33m\u001b[0m\u001b[0m\n\u001b[0;32m    877\u001b[0m \u001b[1;33m\u001b[0m\u001b[0m\n\u001b[1;32m--> 878\u001b[1;33m         return self.execute(command, {\n\u001b[0m\u001b[0;32m    879\u001b[0m             \u001b[1;34m'script'\u001b[0m\u001b[1;33m:\u001b[0m \u001b[0mscript\u001b[0m\u001b[1;33m,\u001b[0m\u001b[1;33m\u001b[0m\u001b[1;33m\u001b[0m\u001b[0m\n\u001b[0;32m    880\u001b[0m             'args': converted_args})['value']\n",
      "\u001b[1;32m~\\anaconda3\\lib\\site-packages\\selenium\\webdriver\\remote\\webdriver.py\u001b[0m in \u001b[0;36mexecute\u001b[1;34m(self, driver_command, params)\u001b[0m\n\u001b[0;32m    420\u001b[0m \u001b[1;33m\u001b[0m\u001b[0m\n\u001b[0;32m    421\u001b[0m         \u001b[0mparams\u001b[0m \u001b[1;33m=\u001b[0m \u001b[0mself\u001b[0m\u001b[1;33m.\u001b[0m\u001b[0m_wrap_value\u001b[0m\u001b[1;33m(\u001b[0m\u001b[0mparams\u001b[0m\u001b[1;33m)\u001b[0m\u001b[1;33m\u001b[0m\u001b[1;33m\u001b[0m\u001b[0m\n\u001b[1;32m--> 422\u001b[1;33m         \u001b[0mresponse\u001b[0m \u001b[1;33m=\u001b[0m \u001b[0mself\u001b[0m\u001b[1;33m.\u001b[0m\u001b[0mcommand_executor\u001b[0m\u001b[1;33m.\u001b[0m\u001b[0mexecute\u001b[0m\u001b[1;33m(\u001b[0m\u001b[0mdriver_command\u001b[0m\u001b[1;33m,\u001b[0m \u001b[0mparams\u001b[0m\u001b[1;33m)\u001b[0m\u001b[1;33m\u001b[0m\u001b[1;33m\u001b[0m\u001b[0m\n\u001b[0m\u001b[0;32m    423\u001b[0m         \u001b[1;32mif\u001b[0m \u001b[0mresponse\u001b[0m\u001b[1;33m:\u001b[0m\u001b[1;33m\u001b[0m\u001b[1;33m\u001b[0m\u001b[0m\n\u001b[0;32m    424\u001b[0m             \u001b[0mself\u001b[0m\u001b[1;33m.\u001b[0m\u001b[0merror_handler\u001b[0m\u001b[1;33m.\u001b[0m\u001b[0mcheck_response\u001b[0m\u001b[1;33m(\u001b[0m\u001b[0mresponse\u001b[0m\u001b[1;33m)\u001b[0m\u001b[1;33m\u001b[0m\u001b[1;33m\u001b[0m\u001b[0m\n",
      "\u001b[1;32m~\\anaconda3\\lib\\site-packages\\selenium\\webdriver\\remote\\remote_connection.py\u001b[0m in \u001b[0;36mexecute\u001b[1;34m(self, command, params)\u001b[0m\n\u001b[0;32m    419\u001b[0m         \u001b[0mdata\u001b[0m \u001b[1;33m=\u001b[0m \u001b[0mutils\u001b[0m\u001b[1;33m.\u001b[0m\u001b[0mdump_json\u001b[0m\u001b[1;33m(\u001b[0m\u001b[0mparams\u001b[0m\u001b[1;33m)\u001b[0m\u001b[1;33m\u001b[0m\u001b[1;33m\u001b[0m\u001b[0m\n\u001b[0;32m    420\u001b[0m         \u001b[0murl\u001b[0m \u001b[1;33m=\u001b[0m \u001b[1;34mf\"{self._url}{path}\"\u001b[0m\u001b[1;33m\u001b[0m\u001b[1;33m\u001b[0m\u001b[0m\n\u001b[1;32m--> 421\u001b[1;33m         \u001b[1;32mreturn\u001b[0m \u001b[0mself\u001b[0m\u001b[1;33m.\u001b[0m\u001b[0m_request\u001b[0m\u001b[1;33m(\u001b[0m\u001b[0mcommand_info\u001b[0m\u001b[1;33m[\u001b[0m\u001b[1;36m0\u001b[0m\u001b[1;33m]\u001b[0m\u001b[1;33m,\u001b[0m \u001b[0murl\u001b[0m\u001b[1;33m,\u001b[0m \u001b[0mbody\u001b[0m\u001b[1;33m=\u001b[0m\u001b[0mdata\u001b[0m\u001b[1;33m)\u001b[0m\u001b[1;33m\u001b[0m\u001b[1;33m\u001b[0m\u001b[0m\n\u001b[0m\u001b[0;32m    422\u001b[0m \u001b[1;33m\u001b[0m\u001b[0m\n\u001b[0;32m    423\u001b[0m     \u001b[1;32mdef\u001b[0m \u001b[0m_request\u001b[0m\u001b[1;33m(\u001b[0m\u001b[0mself\u001b[0m\u001b[1;33m,\u001b[0m \u001b[0mmethod\u001b[0m\u001b[1;33m,\u001b[0m \u001b[0murl\u001b[0m\u001b[1;33m,\u001b[0m \u001b[0mbody\u001b[0m\u001b[1;33m=\u001b[0m\u001b[1;32mNone\u001b[0m\u001b[1;33m)\u001b[0m\u001b[1;33m:\u001b[0m\u001b[1;33m\u001b[0m\u001b[1;33m\u001b[0m\u001b[0m\n",
      "\u001b[1;32m~\\anaconda3\\lib\\site-packages\\selenium\\webdriver\\remote\\remote_connection.py\u001b[0m in \u001b[0;36m_request\u001b[1;34m(self, method, url, body)\u001b[0m\n\u001b[0;32m    441\u001b[0m \u001b[1;33m\u001b[0m\u001b[0m\n\u001b[0;32m    442\u001b[0m         \u001b[1;32mif\u001b[0m \u001b[0mself\u001b[0m\u001b[1;33m.\u001b[0m\u001b[0mkeep_alive\u001b[0m\u001b[1;33m:\u001b[0m\u001b[1;33m\u001b[0m\u001b[1;33m\u001b[0m\u001b[0m\n\u001b[1;32m--> 443\u001b[1;33m             \u001b[0mresp\u001b[0m \u001b[1;33m=\u001b[0m \u001b[0mself\u001b[0m\u001b[1;33m.\u001b[0m\u001b[0m_conn\u001b[0m\u001b[1;33m.\u001b[0m\u001b[0mrequest\u001b[0m\u001b[1;33m(\u001b[0m\u001b[0mmethod\u001b[0m\u001b[1;33m,\u001b[0m \u001b[0murl\u001b[0m\u001b[1;33m,\u001b[0m \u001b[0mbody\u001b[0m\u001b[1;33m=\u001b[0m\u001b[0mbody\u001b[0m\u001b[1;33m,\u001b[0m \u001b[0mheaders\u001b[0m\u001b[1;33m=\u001b[0m\u001b[0mheaders\u001b[0m\u001b[1;33m)\u001b[0m\u001b[1;33m\u001b[0m\u001b[1;33m\u001b[0m\u001b[0m\n\u001b[0m\u001b[0;32m    444\u001b[0m             \u001b[0mstatuscode\u001b[0m \u001b[1;33m=\u001b[0m \u001b[0mresp\u001b[0m\u001b[1;33m.\u001b[0m\u001b[0mstatus\u001b[0m\u001b[1;33m\u001b[0m\u001b[1;33m\u001b[0m\u001b[0m\n\u001b[0;32m    445\u001b[0m         \u001b[1;32melse\u001b[0m\u001b[1;33m:\u001b[0m\u001b[1;33m\u001b[0m\u001b[1;33m\u001b[0m\u001b[0m\n",
      "\u001b[1;32m~\\anaconda3\\lib\\site-packages\\urllib3\\request.py\u001b[0m in \u001b[0;36mrequest\u001b[1;34m(self, method, url, fields, headers, **urlopen_kw)\u001b[0m\n\u001b[0;32m     76\u001b[0m             )\n\u001b[0;32m     77\u001b[0m         \u001b[1;32melse\u001b[0m\u001b[1;33m:\u001b[0m\u001b[1;33m\u001b[0m\u001b[1;33m\u001b[0m\u001b[0m\n\u001b[1;32m---> 78\u001b[1;33m             return self.request_encode_body(\n\u001b[0m\u001b[0;32m     79\u001b[0m                 \u001b[0mmethod\u001b[0m\u001b[1;33m,\u001b[0m \u001b[0murl\u001b[0m\u001b[1;33m,\u001b[0m \u001b[0mfields\u001b[0m\u001b[1;33m=\u001b[0m\u001b[0mfields\u001b[0m\u001b[1;33m,\u001b[0m \u001b[0mheaders\u001b[0m\u001b[1;33m=\u001b[0m\u001b[0mheaders\u001b[0m\u001b[1;33m,\u001b[0m \u001b[1;33m**\u001b[0m\u001b[0murlopen_kw\u001b[0m\u001b[1;33m\u001b[0m\u001b[1;33m\u001b[0m\u001b[0m\n\u001b[0;32m     80\u001b[0m             )\n",
      "\u001b[1;32m~\\anaconda3\\lib\\site-packages\\urllib3\\request.py\u001b[0m in \u001b[0;36mrequest_encode_body\u001b[1;34m(self, method, url, fields, headers, encode_multipart, multipart_boundary, **urlopen_kw)\u001b[0m\n\u001b[0;32m    168\u001b[0m         \u001b[0mextra_kw\u001b[0m\u001b[1;33m.\u001b[0m\u001b[0mupdate\u001b[0m\u001b[1;33m(\u001b[0m\u001b[0murlopen_kw\u001b[0m\u001b[1;33m)\u001b[0m\u001b[1;33m\u001b[0m\u001b[1;33m\u001b[0m\u001b[0m\n\u001b[0;32m    169\u001b[0m \u001b[1;33m\u001b[0m\u001b[0m\n\u001b[1;32m--> 170\u001b[1;33m         \u001b[1;32mreturn\u001b[0m \u001b[0mself\u001b[0m\u001b[1;33m.\u001b[0m\u001b[0murlopen\u001b[0m\u001b[1;33m(\u001b[0m\u001b[0mmethod\u001b[0m\u001b[1;33m,\u001b[0m \u001b[0murl\u001b[0m\u001b[1;33m,\u001b[0m \u001b[1;33m**\u001b[0m\u001b[0mextra_kw\u001b[0m\u001b[1;33m)\u001b[0m\u001b[1;33m\u001b[0m\u001b[1;33m\u001b[0m\u001b[0m\n\u001b[0m",
      "\u001b[1;32m~\\anaconda3\\lib\\site-packages\\urllib3\\poolmanager.py\u001b[0m in \u001b[0;36murlopen\u001b[1;34m(self, method, url, redirect, **kw)\u001b[0m\n\u001b[0;32m    373\u001b[0m             \u001b[0mresponse\u001b[0m \u001b[1;33m=\u001b[0m \u001b[0mconn\u001b[0m\u001b[1;33m.\u001b[0m\u001b[0murlopen\u001b[0m\u001b[1;33m(\u001b[0m\u001b[0mmethod\u001b[0m\u001b[1;33m,\u001b[0m \u001b[0murl\u001b[0m\u001b[1;33m,\u001b[0m \u001b[1;33m**\u001b[0m\u001b[0mkw\u001b[0m\u001b[1;33m)\u001b[0m\u001b[1;33m\u001b[0m\u001b[1;33m\u001b[0m\u001b[0m\n\u001b[0;32m    374\u001b[0m         \u001b[1;32melse\u001b[0m\u001b[1;33m:\u001b[0m\u001b[1;33m\u001b[0m\u001b[1;33m\u001b[0m\u001b[0m\n\u001b[1;32m--> 375\u001b[1;33m             \u001b[0mresponse\u001b[0m \u001b[1;33m=\u001b[0m \u001b[0mconn\u001b[0m\u001b[1;33m.\u001b[0m\u001b[0murlopen\u001b[0m\u001b[1;33m(\u001b[0m\u001b[0mmethod\u001b[0m\u001b[1;33m,\u001b[0m \u001b[0mu\u001b[0m\u001b[1;33m.\u001b[0m\u001b[0mrequest_uri\u001b[0m\u001b[1;33m,\u001b[0m \u001b[1;33m**\u001b[0m\u001b[0mkw\u001b[0m\u001b[1;33m)\u001b[0m\u001b[1;33m\u001b[0m\u001b[1;33m\u001b[0m\u001b[0m\n\u001b[0m\u001b[0;32m    376\u001b[0m \u001b[1;33m\u001b[0m\u001b[0m\n\u001b[0;32m    377\u001b[0m         \u001b[0mredirect_location\u001b[0m \u001b[1;33m=\u001b[0m \u001b[0mredirect\u001b[0m \u001b[1;32mand\u001b[0m \u001b[0mresponse\u001b[0m\u001b[1;33m.\u001b[0m\u001b[0mget_redirect_location\u001b[0m\u001b[1;33m(\u001b[0m\u001b[1;33m)\u001b[0m\u001b[1;33m\u001b[0m\u001b[1;33m\u001b[0m\u001b[0m\n",
      "\u001b[1;32m~\\anaconda3\\lib\\site-packages\\urllib3\\connectionpool.py\u001b[0m in \u001b[0;36murlopen\u001b[1;34m(self, method, url, body, headers, retries, redirect, assert_same_host, timeout, pool_timeout, release_conn, chunked, body_pos, **response_kw)\u001b[0m\n\u001b[0;32m    697\u001b[0m \u001b[1;33m\u001b[0m\u001b[0m\n\u001b[0;32m    698\u001b[0m             \u001b[1;31m# Make the request on the httplib connection object.\u001b[0m\u001b[1;33m\u001b[0m\u001b[1;33m\u001b[0m\u001b[0m\n\u001b[1;32m--> 699\u001b[1;33m             httplib_response = self._make_request(\n\u001b[0m\u001b[0;32m    700\u001b[0m                 \u001b[0mconn\u001b[0m\u001b[1;33m,\u001b[0m\u001b[1;33m\u001b[0m\u001b[1;33m\u001b[0m\u001b[0m\n\u001b[0;32m    701\u001b[0m                 \u001b[0mmethod\u001b[0m\u001b[1;33m,\u001b[0m\u001b[1;33m\u001b[0m\u001b[1;33m\u001b[0m\u001b[0m\n",
      "\u001b[1;32m~\\anaconda3\\lib\\site-packages\\urllib3\\connectionpool.py\u001b[0m in \u001b[0;36m_make_request\u001b[1;34m(self, conn, method, url, timeout, chunked, **httplib_request_kw)\u001b[0m\n\u001b[0;32m    443\u001b[0m                     \u001b[1;31m# Python 3 (including for exceptions like SystemExit).\u001b[0m\u001b[1;33m\u001b[0m\u001b[1;33m\u001b[0m\u001b[0m\n\u001b[0;32m    444\u001b[0m                     \u001b[1;31m# Otherwise it looks like a bug in the code.\u001b[0m\u001b[1;33m\u001b[0m\u001b[1;33m\u001b[0m\u001b[0m\n\u001b[1;32m--> 445\u001b[1;33m                     \u001b[0msix\u001b[0m\u001b[1;33m.\u001b[0m\u001b[0mraise_from\u001b[0m\u001b[1;33m(\u001b[0m\u001b[0me\u001b[0m\u001b[1;33m,\u001b[0m \u001b[1;32mNone\u001b[0m\u001b[1;33m)\u001b[0m\u001b[1;33m\u001b[0m\u001b[1;33m\u001b[0m\u001b[0m\n\u001b[0m\u001b[0;32m    446\u001b[0m         \u001b[1;32mexcept\u001b[0m \u001b[1;33m(\u001b[0m\u001b[0mSocketTimeout\u001b[0m\u001b[1;33m,\u001b[0m \u001b[0mBaseSSLError\u001b[0m\u001b[1;33m,\u001b[0m \u001b[0mSocketError\u001b[0m\u001b[1;33m)\u001b[0m \u001b[1;32mas\u001b[0m \u001b[0me\u001b[0m\u001b[1;33m:\u001b[0m\u001b[1;33m\u001b[0m\u001b[1;33m\u001b[0m\u001b[0m\n\u001b[0;32m    447\u001b[0m             \u001b[0mself\u001b[0m\u001b[1;33m.\u001b[0m\u001b[0m_raise_timeout\u001b[0m\u001b[1;33m(\u001b[0m\u001b[0merr\u001b[0m\u001b[1;33m=\u001b[0m\u001b[0me\u001b[0m\u001b[1;33m,\u001b[0m \u001b[0murl\u001b[0m\u001b[1;33m=\u001b[0m\u001b[0murl\u001b[0m\u001b[1;33m,\u001b[0m \u001b[0mtimeout_value\u001b[0m\u001b[1;33m=\u001b[0m\u001b[0mread_timeout\u001b[0m\u001b[1;33m)\u001b[0m\u001b[1;33m\u001b[0m\u001b[1;33m\u001b[0m\u001b[0m\n",
      "\u001b[1;32m~\\anaconda3\\lib\\site-packages\\urllib3\\packages\\six.py\u001b[0m in \u001b[0;36mraise_from\u001b[1;34m(value, from_value)\u001b[0m\n",
      "\u001b[1;32m~\\anaconda3\\lib\\site-packages\\urllib3\\connectionpool.py\u001b[0m in \u001b[0;36m_make_request\u001b[1;34m(self, conn, method, url, timeout, chunked, **httplib_request_kw)\u001b[0m\n\u001b[0;32m    438\u001b[0m                 \u001b[1;31m# Python 3\u001b[0m\u001b[1;33m\u001b[0m\u001b[1;33m\u001b[0m\u001b[0m\n\u001b[0;32m    439\u001b[0m                 \u001b[1;32mtry\u001b[0m\u001b[1;33m:\u001b[0m\u001b[1;33m\u001b[0m\u001b[1;33m\u001b[0m\u001b[0m\n\u001b[1;32m--> 440\u001b[1;33m                     \u001b[0mhttplib_response\u001b[0m \u001b[1;33m=\u001b[0m \u001b[0mconn\u001b[0m\u001b[1;33m.\u001b[0m\u001b[0mgetresponse\u001b[0m\u001b[1;33m(\u001b[0m\u001b[1;33m)\u001b[0m\u001b[1;33m\u001b[0m\u001b[1;33m\u001b[0m\u001b[0m\n\u001b[0m\u001b[0;32m    441\u001b[0m                 \u001b[1;32mexcept\u001b[0m \u001b[0mBaseException\u001b[0m \u001b[1;32mas\u001b[0m \u001b[0me\u001b[0m\u001b[1;33m:\u001b[0m\u001b[1;33m\u001b[0m\u001b[1;33m\u001b[0m\u001b[0m\n\u001b[0;32m    442\u001b[0m                     \u001b[1;31m# Remove the TypeError from the exception chain in\u001b[0m\u001b[1;33m\u001b[0m\u001b[1;33m\u001b[0m\u001b[0m\n",
      "\u001b[1;32m~\\anaconda3\\lib\\http\\client.py\u001b[0m in \u001b[0;36mgetresponse\u001b[1;34m(self)\u001b[0m\n\u001b[0;32m   1369\u001b[0m         \u001b[1;32mtry\u001b[0m\u001b[1;33m:\u001b[0m\u001b[1;33m\u001b[0m\u001b[1;33m\u001b[0m\u001b[0m\n\u001b[0;32m   1370\u001b[0m             \u001b[1;32mtry\u001b[0m\u001b[1;33m:\u001b[0m\u001b[1;33m\u001b[0m\u001b[1;33m\u001b[0m\u001b[0m\n\u001b[1;32m-> 1371\u001b[1;33m                 \u001b[0mresponse\u001b[0m\u001b[1;33m.\u001b[0m\u001b[0mbegin\u001b[0m\u001b[1;33m(\u001b[0m\u001b[1;33m)\u001b[0m\u001b[1;33m\u001b[0m\u001b[1;33m\u001b[0m\u001b[0m\n\u001b[0m\u001b[0;32m   1372\u001b[0m             \u001b[1;32mexcept\u001b[0m \u001b[0mConnectionError\u001b[0m\u001b[1;33m:\u001b[0m\u001b[1;33m\u001b[0m\u001b[1;33m\u001b[0m\u001b[0m\n\u001b[0;32m   1373\u001b[0m                 \u001b[0mself\u001b[0m\u001b[1;33m.\u001b[0m\u001b[0mclose\u001b[0m\u001b[1;33m(\u001b[0m\u001b[1;33m)\u001b[0m\u001b[1;33m\u001b[0m\u001b[1;33m\u001b[0m\u001b[0m\n",
      "\u001b[1;32m~\\anaconda3\\lib\\http\\client.py\u001b[0m in \u001b[0;36mbegin\u001b[1;34m(self)\u001b[0m\n\u001b[0;32m    317\u001b[0m         \u001b[1;31m# read until we get a non-100 response\u001b[0m\u001b[1;33m\u001b[0m\u001b[1;33m\u001b[0m\u001b[0m\n\u001b[0;32m    318\u001b[0m         \u001b[1;32mwhile\u001b[0m \u001b[1;32mTrue\u001b[0m\u001b[1;33m:\u001b[0m\u001b[1;33m\u001b[0m\u001b[1;33m\u001b[0m\u001b[0m\n\u001b[1;32m--> 319\u001b[1;33m             \u001b[0mversion\u001b[0m\u001b[1;33m,\u001b[0m \u001b[0mstatus\u001b[0m\u001b[1;33m,\u001b[0m \u001b[0mreason\u001b[0m \u001b[1;33m=\u001b[0m \u001b[0mself\u001b[0m\u001b[1;33m.\u001b[0m\u001b[0m_read_status\u001b[0m\u001b[1;33m(\u001b[0m\u001b[1;33m)\u001b[0m\u001b[1;33m\u001b[0m\u001b[1;33m\u001b[0m\u001b[0m\n\u001b[0m\u001b[0;32m    320\u001b[0m             \u001b[1;32mif\u001b[0m \u001b[0mstatus\u001b[0m \u001b[1;33m!=\u001b[0m \u001b[0mCONTINUE\u001b[0m\u001b[1;33m:\u001b[0m\u001b[1;33m\u001b[0m\u001b[1;33m\u001b[0m\u001b[0m\n\u001b[0;32m    321\u001b[0m                 \u001b[1;32mbreak\u001b[0m\u001b[1;33m\u001b[0m\u001b[1;33m\u001b[0m\u001b[0m\n",
      "\u001b[1;32m~\\anaconda3\\lib\\http\\client.py\u001b[0m in \u001b[0;36m_read_status\u001b[1;34m(self)\u001b[0m\n\u001b[0;32m    278\u001b[0m \u001b[1;33m\u001b[0m\u001b[0m\n\u001b[0;32m    279\u001b[0m     \u001b[1;32mdef\u001b[0m \u001b[0m_read_status\u001b[0m\u001b[1;33m(\u001b[0m\u001b[0mself\u001b[0m\u001b[1;33m)\u001b[0m\u001b[1;33m:\u001b[0m\u001b[1;33m\u001b[0m\u001b[1;33m\u001b[0m\u001b[0m\n\u001b[1;32m--> 280\u001b[1;33m         \u001b[0mline\u001b[0m \u001b[1;33m=\u001b[0m \u001b[0mstr\u001b[0m\u001b[1;33m(\u001b[0m\u001b[0mself\u001b[0m\u001b[1;33m.\u001b[0m\u001b[0mfp\u001b[0m\u001b[1;33m.\u001b[0m\u001b[0mreadline\u001b[0m\u001b[1;33m(\u001b[0m\u001b[0m_MAXLINE\u001b[0m \u001b[1;33m+\u001b[0m \u001b[1;36m1\u001b[0m\u001b[1;33m)\u001b[0m\u001b[1;33m,\u001b[0m \u001b[1;34m\"iso-8859-1\"\u001b[0m\u001b[1;33m)\u001b[0m\u001b[1;33m\u001b[0m\u001b[1;33m\u001b[0m\u001b[0m\n\u001b[0m\u001b[0;32m    281\u001b[0m         \u001b[1;32mif\u001b[0m \u001b[0mlen\u001b[0m\u001b[1;33m(\u001b[0m\u001b[0mline\u001b[0m\u001b[1;33m)\u001b[0m \u001b[1;33m>\u001b[0m \u001b[0m_MAXLINE\u001b[0m\u001b[1;33m:\u001b[0m\u001b[1;33m\u001b[0m\u001b[1;33m\u001b[0m\u001b[0m\n\u001b[0;32m    282\u001b[0m             \u001b[1;32mraise\u001b[0m \u001b[0mLineTooLong\u001b[0m\u001b[1;33m(\u001b[0m\u001b[1;34m\"status line\"\u001b[0m\u001b[1;33m)\u001b[0m\u001b[1;33m\u001b[0m\u001b[1;33m\u001b[0m\u001b[0m\n",
      "\u001b[1;32m~\\anaconda3\\lib\\socket.py\u001b[0m in \u001b[0;36mreadinto\u001b[1;34m(self, b)\u001b[0m\n\u001b[0;32m    702\u001b[0m         \u001b[1;32mwhile\u001b[0m \u001b[1;32mTrue\u001b[0m\u001b[1;33m:\u001b[0m\u001b[1;33m\u001b[0m\u001b[1;33m\u001b[0m\u001b[0m\n\u001b[0;32m    703\u001b[0m             \u001b[1;32mtry\u001b[0m\u001b[1;33m:\u001b[0m\u001b[1;33m\u001b[0m\u001b[1;33m\u001b[0m\u001b[0m\n\u001b[1;32m--> 704\u001b[1;33m                 \u001b[1;32mreturn\u001b[0m \u001b[0mself\u001b[0m\u001b[1;33m.\u001b[0m\u001b[0m_sock\u001b[0m\u001b[1;33m.\u001b[0m\u001b[0mrecv_into\u001b[0m\u001b[1;33m(\u001b[0m\u001b[0mb\u001b[0m\u001b[1;33m)\u001b[0m\u001b[1;33m\u001b[0m\u001b[1;33m\u001b[0m\u001b[0m\n\u001b[0m\u001b[0;32m    705\u001b[0m             \u001b[1;32mexcept\u001b[0m \u001b[0mtimeout\u001b[0m\u001b[1;33m:\u001b[0m\u001b[1;33m\u001b[0m\u001b[1;33m\u001b[0m\u001b[0m\n\u001b[0;32m    706\u001b[0m                 \u001b[0mself\u001b[0m\u001b[1;33m.\u001b[0m\u001b[0m_timeout_occurred\u001b[0m \u001b[1;33m=\u001b[0m \u001b[1;32mTrue\u001b[0m\u001b[1;33m\u001b[0m\u001b[1;33m\u001b[0m\u001b[0m\n",
      "\u001b[1;31mKeyboardInterrupt\u001b[0m: "
     ]
    }
   ],
   "source": [
    "get_episodes_metadata(podcasts)"
   ]
  },
  {
   "cell_type": "code",
   "execution_count": 19,
   "metadata": {},
   "outputs": [
    {
     "data": {
      "text/html": [
       "<div>\n",
       "<style scoped>\n",
       "    .dataframe tbody tr th:only-of-type {\n",
       "        vertical-align: middle;\n",
       "    }\n",
       "\n",
       "    .dataframe tbody tr th {\n",
       "        vertical-align: top;\n",
       "    }\n",
       "\n",
       "    .dataframe thead th {\n",
       "        text-align: right;\n",
       "    }\n",
       "</style>\n",
       "<table border=\"1\" class=\"dataframe\">\n",
       "  <thead>\n",
       "    <tr style=\"text-align: right;\">\n",
       "      <th></th>\n",
       "      <th>Title</th>\n",
       "      <th>Podcast</th>\n",
       "      <th>Duration</th>\n",
       "      <th>Link</th>\n",
       "    </tr>\n",
       "  </thead>\n",
       "  <tbody>\n",
       "    <tr>\n",
       "      <th>544</th>\n",
       "      <td>102: Новая космическая гонка к Луне</td>\n",
       "      <td>The Big Beard Theory</td>\n",
       "      <td>29:43</td>\n",
       "      <td>https://music.yandex.ru/album/6408431/track/50...</td>\n",
       "    </tr>\n",
       "    <tr>\n",
       "      <th>545</th>\n",
       "      <td>101: Открытие NASA и граница допустимого кликб...</td>\n",
       "      <td>The Big Beard Theory</td>\n",
       "      <td>26:43</td>\n",
       "      <td>https://music.yandex.ru/album/6408431/track/47...</td>\n",
       "    </tr>\n",
       "    <tr>\n",
       "      <th>546</th>\n",
       "      <td>100: Путешествия во времени</td>\n",
       "      <td>The Big Beard Theory</td>\n",
       "      <td>31:42</td>\n",
       "      <td>https://music.yandex.ru/album/6408431/track/47...</td>\n",
       "    </tr>\n",
       "    <tr>\n",
       "      <th>547</th>\n",
       "      <td>99: Живем ли мы в симуляции</td>\n",
       "      <td>The Big Beard Theory</td>\n",
       "      <td>31:03</td>\n",
       "      <td>https://music.yandex.ru/album/6408431/track/47...</td>\n",
       "    </tr>\n",
       "    <tr>\n",
       "      <th>548</th>\n",
       "      <td>98: Что такое квантовая телепортация</td>\n",
       "      <td>The Big Beard Theory</td>\n",
       "      <td>63:46</td>\n",
       "      <td>https://music.yandex.ru/album/6408431/track/47...</td>\n",
       "    </tr>\n",
       "    <tr>\n",
       "      <th>...</th>\n",
       "      <td>...</td>\n",
       "      <td>...</td>\n",
       "      <td>...</td>\n",
       "      <td>...</td>\n",
       "    </tr>\n",
       "    <tr>\n",
       "      <th>641</th>\n",
       "      <td>5: SpaceX, блестки на службе NASA и трансплант...</td>\n",
       "      <td>The Big Beard Theory</td>\n",
       "      <td>17:52</td>\n",
       "      <td>https://music.yandex.ru/album/6408431/track/47...</td>\n",
       "    </tr>\n",
       "    <tr>\n",
       "      <th>642</th>\n",
       "      <td>4: Частная космонавтика с Зеленым котом</td>\n",
       "      <td>The Big Beard Theory</td>\n",
       "      <td>129:22</td>\n",
       "      <td>https://music.yandex.ru/album/6408431/track/47...</td>\n",
       "    </tr>\n",
       "    <tr>\n",
       "      <th>643</th>\n",
       "      <td>3: БАК, черные дыры и капсуляция цивилизаций</td>\n",
       "      <td>The Big Beard Theory</td>\n",
       "      <td>21:59</td>\n",
       "      <td>https://music.yandex.ru/album/6408431/track/47...</td>\n",
       "    </tr>\n",
       "    <tr>\n",
       "      <th>644</th>\n",
       "      <td>2: Космические телескопы</td>\n",
       "      <td>The Big Beard Theory</td>\n",
       "      <td>23:08</td>\n",
       "      <td>https://music.yandex.ru/album/6408431/track/50...</td>\n",
       "    </tr>\n",
       "    <tr>\n",
       "      <th>645</th>\n",
       "      <td>1: Марсоходы</td>\n",
       "      <td>The Big Beard Theory</td>\n",
       "      <td>25:20</td>\n",
       "      <td>https://music.yandex.ru/album/6408431/track/50...</td>\n",
       "    </tr>\n",
       "  </tbody>\n",
       "</table>\n",
       "<p>102 rows × 4 columns</p>\n",
       "</div>"
      ],
      "text/plain": [
       "                                                 Title               Podcast  \\\n",
       "544                102: Новая космическая гонка к Луне  The Big Beard Theory   \n",
       "545  101: Открытие NASA и граница допустимого кликб...  The Big Beard Theory   \n",
       "546                        100: Путешествия во времени  The Big Beard Theory   \n",
       "547                        99: Живем ли мы в симуляции  The Big Beard Theory   \n",
       "548               98: Что такое квантовая телепортация  The Big Beard Theory   \n",
       "..                                                 ...                   ...   \n",
       "641  5: SpaceX, блестки на службе NASA и трансплант...  The Big Beard Theory   \n",
       "642            4: Частная космонавтика с Зеленым котом  The Big Beard Theory   \n",
       "643       3: БАК, черные дыры и капсуляция цивилизаций  The Big Beard Theory   \n",
       "644                           2: Космические телескопы  The Big Beard Theory   \n",
       "645                                       1: Марсоходы  The Big Beard Theory   \n",
       "\n",
       "    Duration                                               Link  \n",
       "544    29:43  https://music.yandex.ru/album/6408431/track/50...  \n",
       "545    26:43  https://music.yandex.ru/album/6408431/track/47...  \n",
       "546    31:42  https://music.yandex.ru/album/6408431/track/47...  \n",
       "547    31:03  https://music.yandex.ru/album/6408431/track/47...  \n",
       "548    63:46  https://music.yandex.ru/album/6408431/track/47...  \n",
       "..       ...                                                ...  \n",
       "641    17:52  https://music.yandex.ru/album/6408431/track/47...  \n",
       "642   129:22  https://music.yandex.ru/album/6408431/track/47...  \n",
       "643    21:59  https://music.yandex.ru/album/6408431/track/47...  \n",
       "644    23:08  https://music.yandex.ru/album/6408431/track/50...  \n",
       "645    25:20  https://music.yandex.ru/album/6408431/track/50...  \n",
       "\n",
       "[102 rows x 4 columns]"
      ]
     },
     "execution_count": 19,
     "metadata": {},
     "output_type": "execute_result"
    }
   ],
   "source": [
    "episodes[episodes['Podcast'] == 'The Big Beard Theory']"
   ]
  },
  {
   "cell_type": "markdown",
   "metadata": {},
   "source": [
    "# DRAFTS"
   ]
  },
  {
   "cell_type": "code",
   "execution_count": null,
   "metadata": {},
   "outputs": [],
   "source": [
    "def get_titles_with_ids(podcasts_df):\n",
    "    \n",
    "    global episodes\n",
    "    \n",
    "    for link in podcasts_df['Link']:\n",
    "        driver.get(link)\n",
    "        screen_height = driver.execute_script(\"return window.screen.height;\")\n",
    "        i = 0\n",
    "        titles = []\n",
    "        link_index = podcasts_df.index[podcasts_df['Link'] == link][0]\n",
    "        podcast = podcasts_df['Header'][link_index]\n",
    "        \n",
    "        while True:\n",
    "            driver.execute_script(f\"window.scrollTo(0, {screen_height}*{i});\") \n",
    "            i += 1\n",
    "            sleep(1)\n",
    "            title_elements = driver.find_elements_by_xpath('//a[@class=\"d-track__title deco-link deco-link_stronger line-clamp\"]')\n",
    "            ep_id = driver.find_elements_by_xpath('//')\n",
    "            titles.extend([f'{title_elements[i].text}_' for i in range(len(title_elements)) if title_elements[i].text not in titles])\n",
    "    \n",
    "            scroll_height = driver.execute_script(\"return document.body.scrollHeight;\")  \n",
    "            if (screen_height) * i > scroll_height:\n",
    "                break"
   ]
  },
  {
   "cell_type": "code",
   "execution_count": 23,
   "metadata": {},
   "outputs": [
    {
     "name": "stderr",
     "output_type": "stream",
     "text": [
      "C:\\Users\\Daria\\AppData\\Local\\Temp/ipykernel_13848/436144416.py:2: DeprecationWarning: find_elements_by_* commands are deprecated. Please use find_elements() instead\n",
      "  durations = driver.find_elements_by_xpath('//span[@class=\"typo-track deco-typo-secondary\"]')\n"
     ]
    },
    {
     "data": {
      "application/vnd.jupyter.widget-view+json": {
       "model_id": "d2016c12056944528c3e766f71a45f4e",
       "version_major": 2,
       "version_minor": 0
      },
      "text/plain": [
       "  0%|          | 0/20 [00:00<?, ?it/s]"
      ]
     },
     "metadata": {},
     "output_type": "display_data"
    },
    {
     "name": "stdout",
     "output_type": "stream",
     "text": [
      "49:02\n",
      "48:44\n",
      "49:32\n",
      "49:24\n",
      "49:33\n",
      "49:00\n",
      "48:48\n",
      "49:10\n",
      "48:59\n",
      "48:55\n",
      "48:38\n",
      "49:18\n",
      "48:56\n",
      "49:03\n",
      "49:18\n",
      "49:05\n",
      "48:56\n",
      "49:44\n",
      "49:30\n",
      "47:27\n"
     ]
    }
   ],
   "source": [
    "driver.get('https://music.yandex.ru/album/7121797')\n",
    "durations = driver.find_elements_by_xpath('')\n",
    "for d in tqdm(durations):\n",
    "    print(d.text)\n",
    "\n",
    "[ class=\"\" data-b=\"2078\" data-id=\"1\"><div class=\"d-track__start-column\"><div class=\"entity-cover deco-entity-image-placeholder d-track__cover entity-cover_size_Large\"><img class=\"entity-cover__image deco-pane\" src=\"//avatars.yandex.net/get-music-content/4747389/1d0167a1.a.7121797-4/50x50\" srcset=\"//avatars.yandex.net/get-music-content/4747389/1d0167a1.a.7121797-4/50x50, //avatars.yandex.net/get-music-content/4747389/1d0167a1.a.7121797-4/100x100 2x\"></div><div class=\"d-track__bubble\"></div><div class=\"d-track__play d-track__hover\"><span class=\"d-button-play__wrap\" data-b=\"2079\"><button class=\"button-play button button_round button_action button_ico local-icon-theme-white button-play__type_track\" data-b=\"2081\" data-idx=\"98195516\"><span class=\"button-inner deco-button-stylable\"><span class=\"d-icon deco-icon d-icon_play-small  \"></span></span></button></span></div></div><div class=\"d-track__overflowable-column\">    <div class=\"d-track__overflowable-wrapper deco-typo-secondary block-layout\"> <div class=\"d-track__name\" title=\"Новогодняя программа - Сергей Виватенко отвечает на вопросы слушателей.\"> <a href=\"/album/7121797/track/98195516\" class=\"d-track__title deco-link deco-link_stronger line-clamp\"> Новогодняя программа - Сергей Виватенко отвечает на вопросы слушателей. </a></div><div class=\"d-track__meta\"><span class=\"d-track__artists\"></span></div></div><div class=\"d-track__info-column\"> </div><div class=\"d-track__end-column\"><div class=\" d-track__actions\"> <span class=\"d-like d-like_theme-track deco-track-like\" data-b=\"2083\"><span class=\"d-like__icon-wrapper deco-track-like-icon-wrapper\"><span class=\"d-icon deco-icon d-icon_heart  d-like__icon deco-buttonish-like-icon-bright\" title=\"Сделайте рекомендации точнее и добавьте выпуск в раздел «Моя коллекция»\"></span><span class=\"d-icon deco-icon d-icon_heart  d-like__icon deco-buttonish-like-icon-pale\" title=\"Сделайте рекомендации точнее и добавьте выпуск в раздел «Моя коллекция»\"></span></span></span><span class=\"dislike deco-track-dislike dislike_theme-track dislike__track-hover-hidden\" data-b=\"2084\" \"=\"\"><span class=\"dislike__icon-wrapper deco-track-dislike-icon-wrapper\"><span class=\"d-icon deco-icon d-icon_circle-crossed_track  dislike__icon deco-buttonish-dislike-icon-bright\" title=\"Нажмите, и мы не будем больше рекомендовать этот выпуск\"></span><span class=\"d-icon deco-icon d-icon_circle-crossed_track  dislike__icon deco-buttonish-dislike-icon-pale\" title=\"Нажмите, и мы не будем больше рекомендовать этот выпуск\"></span></span></span><div class=\"d-tooltip deco-tooltip   popup_hidden popup deco-pane-popup d-tooltip_min-width\" data-b=\"2086\"><div class=\"deco-tooltip__pointer-before\"></div><div class=\"d-tooltip__stair\"></div><div class=\"d-tooltip__content deco-tooltip\"><div class=\"d-tooltip__message\">Войдите, и мы запомним, что вам не нравится этот выпуск</div>   <div class=\"d-tooltip__actions\"> <button class=\"d-button deco-button deco-button-action local-icon-theme-white d-button_size_S d-tooltip__btn-agree\" data-b=\"2087\" type=\"button\"><span class=\"d-button-inner deco-button-stylable\"><span class=\"d-button__inner\"><span class=\"d-button__label\">Войти</span></span></span></button> </div> </div></div></div><div class=\"d-context-menu\" data-b=\"2085\"><span class=\"d-button deco-button deco-button-borderless d-button_type_borderless d-button_rounded d-button_size_M d-button_w-icon d-button_w-icon-centered d-context-menu__opener d-track__context-menu\" type=\"button\"><span class=\"d-button-inner deco-button-stylable\"><span class=\"d-button__inner\"><span class=\"d-icon deco-icon d-icon_dots-horisontal  \"></span></span></span></span></div><div class=\"d-track__info d-track__nohover\"><span class=\"typo-track deco-typo-secondary\">49:02</span></div></div></div></div>\n",
    "\n",
    "i = 0\n",
    "while True:\n",
    "    driver.execute_script(f\"window.scrollTo(0, {screen_height}*{i});\") \n",
    "    i += 1\n",
    "    sleep(1)\n",
    "    duration_elements = driver.find_elements_by_xpath('//span[@class=\"typo-track deco-typo-secondary\"]')\n",
    "    titles.extend([title_elements[j].text for l in range(len(title_elements)) if title_elements[i].text not in titles])"
   ]
  },
  {
   "cell_type": "code",
   "execution_count": 14,
   "metadata": {},
   "outputs": [],
   "source": [
    "def get_titles(podcasts_df):\n",
    "    \n",
    "    global episodes\n",
    "    \n",
    "    for link in podcasts_df['Link']:\n",
    "        driver.get(link)\n",
    "        screen_height = driver.execute_script(\"return window.screen.height;\")\n",
    "        i = 0\n",
    "        titles = []\n",
    "        link_index = podcasts_df.index[podcasts_df['Link'] == link][0]\n",
    "        podcast = podcasts_df['Header'][link_index]\n",
    "        \n",
    "        while True:\n",
    "            driver.execute_script(f\"window.scrollTo(0, {screen_height}*{i});\") \n",
    "            i += 1\n",
    "            sleep(1)\n",
    "            title_elements = driver.find_elements_by_xpath('//a[@class=\"d-track__title deco-link deco-link_stronger line-clamp\"]')\n",
    "            titles.extend([title_elements[i].text for i in range(len(title_elements)) if title_elements[i].text not in titles])\n",
    "    \n",
    "            scroll_height = driver.execute_script(\"return document.body.scrollHeight;\")  \n",
    "            if (screen_height) * i > scroll_height:\n",
    "                break\n",
    "        \n",
    "        for i in range(len(titles)):\n",
    "            \n",
    "            ep = {'Title': titles[i], \n",
    "                  'Podcast': podcast, \n",
    "                  'Duration': None,\n",
    "                  'Link': None}\n",
    "                   \n",
    "            episodes = episodes.append(ep, ignore_index=True)\n",
    "        \n",
    "        print(f'{link_index + 1} out of {podcasts_df.shape[0]} done, {len(titles)}/{podcasts_df[\"Number of Episodes\"][link_index]} episodes added')"
   ]
  },
  {
   "cell_type": "raw",
   "metadata": {},
   "source": [
    "# РАБОЧИЙ КОД ДЛЯ ВСЕХ ТИТЛОВ\n",
    "driver.get(test_df['Link'][0])\n",
    "screen_height = driver.execute_script(\"return window.screen.height;\")\n",
    "i = 0\n",
    "titles, links = [], []\n",
    "while True:\n",
    "    driver.execute_script(f\"window.scrollTo(0, {screen_height}*{i});\") \n",
    "    i += 1\n",
    "    time.sleep(1)\n",
    "    title_elements = driver.find_elements_by_xpath('//a[@class=\"d-track__title deco-link deco-link_stronger line-clamp\"]')\n",
    "    titles.extend([title_elements[i].text for i in range(len(title_elements)) if title_elements[i].text not in titles])\n",
    "    \n",
    "    link_elements = driver.find_elements_by_xpath('//*[contains(@href,\"/track/\")]')\n",
    "    links = [link_elements[i].get_attribute('href') for i in range(len(link_elements)) if link_elements[i].get_attribute('href') not in links]\n",
    "    \n",
    "    scroll_height = driver.execute_script(\"return document.body.scrollHeight;\")  \n",
    "    if (screen_height) * i > scroll_height:\n",
    "        break"
   ]
  },
  {
   "cell_type": "code",
   "execution_count": 15,
   "metadata": {},
   "outputs": [
    {
     "name": "stderr",
     "output_type": "stream",
     "text": [
      "C:\\Users\\Daria\\AppData\\Local\\Temp/ipykernel_13848/2264719216.py:17: DeprecationWarning: find_elements_by_* commands are deprecated. Please use find_elements() instead\n",
      "  title_elements = driver.find_elements_by_xpath('//a[@class=\"d-track__title deco-link deco-link_stronger line-clamp\"]')\n"
     ]
    },
    {
     "name": "stdout",
     "output_type": "stream",
     "text": [
      "1 out of 103 done, 17/17 episodes added\n"
     ]
    },
    {
     "ename": "KeyboardInterrupt",
     "evalue": "",
     "output_type": "error",
     "traceback": [
      "\u001b[1;31m---------------------------------------------------------------------------\u001b[0m",
      "\u001b[1;31mKeyboardInterrupt\u001b[0m                         Traceback (most recent call last)",
      "\u001b[1;32m~\\AppData\\Local\\Temp/ipykernel_13848/4259394923.py\u001b[0m in \u001b[0;36m<module>\u001b[1;34m\u001b[0m\n\u001b[1;32m----> 1\u001b[1;33m \u001b[0mget_titles\u001b[0m\u001b[1;33m(\u001b[0m\u001b[0mpodcasts\u001b[0m\u001b[1;33m)\u001b[0m\u001b[1;33m\u001b[0m\u001b[1;33m\u001b[0m\u001b[0m\n\u001b[0m",
      "\u001b[1;32m~\\AppData\\Local\\Temp/ipykernel_13848/2264719216.py\u001b[0m in \u001b[0;36mget_titles\u001b[1;34m(podcasts_df)\u001b[0m\n\u001b[0;32m     14\u001b[0m             \u001b[0mdriver\u001b[0m\u001b[1;33m.\u001b[0m\u001b[0mexecute_script\u001b[0m\u001b[1;33m(\u001b[0m\u001b[1;34mf\"window.scrollTo(0, {screen_height}*{i});\"\u001b[0m\u001b[1;33m)\u001b[0m\u001b[1;33m\u001b[0m\u001b[1;33m\u001b[0m\u001b[0m\n\u001b[0;32m     15\u001b[0m             \u001b[0mi\u001b[0m \u001b[1;33m+=\u001b[0m \u001b[1;36m1\u001b[0m\u001b[1;33m\u001b[0m\u001b[1;33m\u001b[0m\u001b[0m\n\u001b[1;32m---> 16\u001b[1;33m             \u001b[0msleep\u001b[0m\u001b[1;33m(\u001b[0m\u001b[1;36m1\u001b[0m\u001b[1;33m)\u001b[0m\u001b[1;33m\u001b[0m\u001b[1;33m\u001b[0m\u001b[0m\n\u001b[0m\u001b[0;32m     17\u001b[0m             \u001b[0mtitle_elements\u001b[0m \u001b[1;33m=\u001b[0m \u001b[0mdriver\u001b[0m\u001b[1;33m.\u001b[0m\u001b[0mfind_elements_by_xpath\u001b[0m\u001b[1;33m(\u001b[0m\u001b[1;34m'//a[@class=\"d-track__title deco-link deco-link_stronger line-clamp\"]'\u001b[0m\u001b[1;33m)\u001b[0m\u001b[1;33m\u001b[0m\u001b[1;33m\u001b[0m\u001b[0m\n\u001b[0;32m     18\u001b[0m             \u001b[0mtitles\u001b[0m\u001b[1;33m.\u001b[0m\u001b[0mextend\u001b[0m\u001b[1;33m(\u001b[0m\u001b[1;33m[\u001b[0m\u001b[0mtitle_elements\u001b[0m\u001b[1;33m[\u001b[0m\u001b[0mi\u001b[0m\u001b[1;33m]\u001b[0m\u001b[1;33m.\u001b[0m\u001b[0mtext\u001b[0m \u001b[1;32mfor\u001b[0m \u001b[0mi\u001b[0m \u001b[1;32min\u001b[0m \u001b[0mrange\u001b[0m\u001b[1;33m(\u001b[0m\u001b[0mlen\u001b[0m\u001b[1;33m(\u001b[0m\u001b[0mtitle_elements\u001b[0m\u001b[1;33m)\u001b[0m\u001b[1;33m)\u001b[0m \u001b[1;32mif\u001b[0m \u001b[0mtitle_elements\u001b[0m\u001b[1;33m[\u001b[0m\u001b[0mi\u001b[0m\u001b[1;33m]\u001b[0m\u001b[1;33m.\u001b[0m\u001b[0mtext\u001b[0m \u001b[1;32mnot\u001b[0m \u001b[1;32min\u001b[0m \u001b[0mtitles\u001b[0m\u001b[1;33m]\u001b[0m\u001b[1;33m)\u001b[0m\u001b[1;33m\u001b[0m\u001b[1;33m\u001b[0m\u001b[0m\n",
      "\u001b[1;31mKeyboardInterrupt\u001b[0m: "
     ]
    }
   ],
   "source": [
    "get_titles(podcasts)"
   ]
  },
  {
   "cell_type": "code",
   "execution_count": 11,
   "metadata": {},
   "outputs": [
    {
     "name": "stdout",
     "output_type": "stream",
     "text": [
      "<class 'pandas.core.frame.DataFrame'>\n",
      "RangeIndex: 7511 entries, 0 to 7510\n",
      "Data columns (total 4 columns):\n",
      " #   Column    Non-Null Count  Dtype \n",
      "---  ------    --------------  ----- \n",
      " 0   Title     7511 non-null   object\n",
      " 1   Podcast   7511 non-null   object\n",
      " 2   Duration  0 non-null      object\n",
      " 3   Link      0 non-null      object\n",
      "dtypes: object(4)\n",
      "memory usage: 234.8+ KB\n"
     ]
    }
   ],
   "source": [
    "episodes.info()"
   ]
  },
  {
   "cell_type": "code",
   "execution_count": 26,
   "metadata": {},
   "outputs": [
    {
     "name": "stdout",
     "output_type": "stream",
     "text": [
      "1. Народное инородное: фольклор - раньше и сейчас\n",
      "2. Геномная селекция: поля прошлого и будущего\n",
      "3. Японская осень: охота на красные клёны, красивая Луна и хурма\n",
      "4. Covid-19 и головной мозг: нейроинфекции глазами ученых\n",
      "5. Что такое популярная \"киномакулатура\" и как от нее избавиться\n",
      "6. Азот в атмосфере: стоит ли волноваться, что его так много?\n",
      "7. Люди пространства и народы времени. Как это происходит?\n",
      "8. Минимализм: способ спасти планету и себя?\n",
      "9. Опера как явление и средство изучения жизни\n",
      "10. Куда дует солнечный ветер?\n",
      "11. Искусственный интеллект меняет природу человека?\n",
      "12. Этнографические изыскания. Особенности для собирателей историй\n",
      "13. Гражданство. Метаморфозы в истории и современности\n",
      "14. Мифы о животных: где правда, а где вымысел?\n",
      "15. Историческое языкознание. Как говорили в древности?\n",
      "16. Вирусы. Темная сторона. Что известно?\n",
      "17. Почему мы разноцветные? Как ученые объясняют цвет кожи человека.\n",
      "18. Что мы знаем об эволюции минералов?\n",
      "19. Парадоксы языка: почему языки такие разные?\n",
      "20. Звезды. От рождения до смерти\n",
      "21. Лактоза, глютен и другие.. Откуда берется непереносимость?\n",
      "22. Археоботаника в действии. Ископаемая еда\n",
      "23. Математика мироздания: как пойти туда, не знаю куда, и найти то, не знаю что?\n",
      "24. \"Страшные экзамены\" или Почему в Китае уважают учителей\n",
      "25. Парадоксы истории. Куда мы движемся?\n",
      "26. Генная инженерия растений. Почему ГМО - не биологический термин?\n",
      "27. Лингвистика. Коварные слова\n",
      "28. Иммунитет. Молекулярные победы и сбои\n",
      "29. Законы природы не абсолютны?\n",
      "30. Японская весна: не только сакура!\n",
      "31. Закон сохранения информации в физике и философии: как это работает?\n",
      "32. Конфуцианство: правила жизни \"благородного мужа\"\n",
      "33. Реликтовое излучение: общий код Вселенной?\n",
      "34. Картография и геоинформатика: о чем могут рассказать современные карты\n",
      "35. Климатические беженцы. Когда их ждать и где?\n",
      "36. Криптовалюта: наше будущее или..?\n",
      "37. Парадигма и парадоксы физики\n",
      "38. Климат Земли: почему увеличивается число интенсивных ураганов?\n",
      "39. Нечеткая логика или Как работает ваша стиральная машина\n",
      "40. Аристократ. Смысл и миссия\n",
      "41. 5G и всё, что с этим связано\n",
      "42. Откуда у Адама появилась Ева: научный подход к мифу.\n",
      "43. Кто становится лидером в политике?\n",
      "44. Космохимия: из чего состоят планеты и звезды?\n",
      "45. Зимняя спячка, хранитель дерева и пионовый снег... Почему японцы делят поэзию по сезонам?\n",
      "46. Тевтонский орден, определивший судьбу Балтии\n",
      "47. Биомимикрия. Подражая природе\n",
      "48. Почему Балтийское море такое?\n",
      "49. Радиация. Космическая, земная и техногенная\n",
      "50. Норма, патология и пограничные состояния: что знают ученые?\n",
      "51. Арктика и Антарктида: что творится на полюсах Земли?\n",
      "52. Ислам и исламофобия в Европе\n",
      "53. Левши и правши: зачем это нужно эволюции?\n",
      "54. Викинги: народ или род занятий?\n",
      "55. Жанр автобиографии или Зачем писать о себе?\n",
      "56. Образ солнца в мифологии и философии\n",
      "57. Вращение Земли и изменение направления её оси: как эти процессы влияют на планету\n",
      "58. Как на Земле появилась жизнь: удалось ли учёным разгадать загадку?\n",
      "59. Искусственные спутники Земли: коллапсов не будет?\n",
      "60. Луноликая пери. Скрытая красота женщин Востока\n",
      "61. Головной мозг: что нам известно о его работе?\n",
      "62. Сможет ли водород заменить уран?\n",
      "63. Япония-Европа: фарфоровый мост\n",
      "64. Когда мы научимся перерабатывать ядерное топливо?\n",
      "65. Числа Фибоначчи или Задача о кроликах, которая помогла понять мир\n",
      "66. Икебана как метод мировосприятия\n",
      "67. Перемены климата: утонем или замёрзнем?\n",
      "68. Символизм в культурных кодах: как он на нас действует?\n",
      "69. В музее или на природе: где заканчивается археология?\n",
      "70. Туннельный эффект в ядерной физике\n",
      "71. Японская эстетика. Феномен трансграничного поэтического жанра\n",
      "72. Эволюция подводных хищников: так ли они опасны?\n",
      "73. Экзопланеты во Вселенной. Мы не одиноки?\n",
      "74. Образ дракона в мифологии разных народов\n",
      "75. Китайская философия и современность\n",
      "76. Мусор или культурный слой? Загадки археологии\n",
      "77. \"Поколение сэндвич\", медикализация и другие вызовы в \"серебряной\" экономике\n",
      "78. Математическое моделирование эпидемий и фейки в науке\n",
      "79. Маска как особый атрибут общества в истории и политике\n",
      "80. Тайная жизнь краеведа\n",
      "81. Эпигенетика и старость: поспорим с природой?\n",
      "82. Корни города. Диггерство\n",
      "83. Принцип иерархичности, или Живая целостная система от клетки до Вселенной\n",
      "84. Природа духовности: внутренняя потребность или внешние обстоятельства?\n",
      "85. Египетский фараон - женщина. Возможно ли это?\n",
      "86. Экстремальная биология: животные могут, а люди?\n",
      "87. Парадоксы времени. Философский взгляд\n",
      "88. Культурный и национальный код: взгляд литературоведа\n",
      "89. Вирусолог: чтобы остановить эпидемию, нужно изменить свои привычки\n",
      "90. Вирусы: почему мы их не можем победить?\n",
      "91. Конституция государства. Можно ли без нее обойтись?\n",
      "92. Кометы и астероиды: вечные странники космоса и полигон для исследований\n",
      "93. Феномен миграции культур\n",
      "94. Права человека: обойдемся малой кровью?\n",
      "95. Кости. Можно ли их восстановить, учась у природы?\n",
      "96. Историография: мы никогда не узнаем правду?\n",
      "97. Гены и наночастицы: противоречивая действительность\n",
      "98. Как испытывать патриотизм, если твоя родина стала частью другой страны?\n",
      "99. Универсальные и загадочные фуллерены\n",
      "100. Реклама и покупатель: игра в одни ворота?\n",
      "101. Микроволны: помощники или вредители?\n",
      "102. Таблице Менделеева - 150 лет: изменений больше не будет?\n",
      "103. Инфекции и эпидемии: мифы и реальность\n",
      "104. Загадки Вселенной\n",
      "105. Мечты об идеальном обществе: идеи Платона, которые работают 2500 лет\n",
      "106. Алмазы: лучшие друзья не только девушек\n",
      "107. Алгоритмы игры в \"кошки-мышки\" и тайна преступления\n",
      "108. Жизнь и загадки нейтронной звезды\n",
      "109. Математические модели социальных процессов: можно ли их создать?\n",
      "110. Тактики \"медведей\" и \"быков\": закулисье биржи акций и валют\n",
      "111. Клетка: живая Вселенная, которая не изучена до конца\n",
      "112. Радиация: естественная и искусственная, опасная и полезная\n",
      "113. Загадки Луны\n",
      "114. Способности к обучению: спорная категория?\n",
      "115. Рождение и жизнь слов\n",
      "116. Свет и цвет в понимании оптометрии\n",
      "117. Христианское содержание русских народных сказок\n",
      "118. Сердце: мотор или нечто большее?\n",
      "119. Феномен сказок: почему мы их так любим?\n",
      "120. Что такое государственность?\n",
      "121. Биопринтер:органы в \"печати\" 3D.\n",
      "122. Процесс мышления: как это происходит?\n",
      "123. Как создается наука?\n",
      "124. Лекарства: как их создают и проверяют на эффективность и безопасность?\n",
      "125. Полезные ископаемые в Латвии: торф, нефть, золото\n",
      "126. Удивительные кванты и запутанные частицы: как их используют в современных технологиях\n",
      "127. Феномен миграции населения\n",
      "128. Сравнительное литературоведение: программирование вам в помощь\n",
      "129. Гравитация: неизученная до конца сила, которая действует везде\n",
      "130. Cила народного костюма\n",
      "131. Философия природы вещей: фюзис, смысл, порядок вещей и понятие счастья.\n",
      "132. Ловушка для дыма: латвийские учёные создали безопасный и экологический фильтр\n",
      "133. Геном человека: реальность на грани фантастики\n",
      "134. Пыльца: учёные \"обучают\" прибор для её подсчёта\n",
      "135. Береговые процессы\n",
      "136. Картины: холст, краски и мистика живописи\n",
      "137. Sveiks, Hugo: латышский ответ Google translate\n",
      "138. Иннополис: русский ответ Силиконовой долине\n",
      "139. Мировой призрак голода: агронаука против мрачных прогнозов\n",
      "140. Природа вещей: связь эволюции человека с эволюцией эстетических норм\n",
      "141. Современная риторика, или Гни свою линию\n",
      "142. Нейромаркетинг: универсальный ключ к мозгу покупателя\n",
      "143. Жизнь насекомых\n",
      "144. Петроглифы: загадки из прошлого\n",
      "145. Рогатый Моисей, священные мемы и другие парадоксы \"Страдающего средневековья\"\n",
      "146. Сергей Зотов: в средние века к шуткам на религиозную тему относились проще\n",
      "147. Гомер: а был ли мальчик?\n",
      "148. Кристаллы: от апокалипсиса до абсолюта\n",
      "149. Депрессия: мёртвая зона мозга\n",
      "150. \"Ритм Бергера\": какие тайны открывают биотоки мозга?\n",
      "151. Вулканы: дыхание земли\n",
      "152. Леа Веденски о природе человеческого гения\n",
      "153. Наталья Авсеенко: девушка, победившая холод\n",
      "154. Ирина Годунова. Травмы психики и методы выживания\n",
      "155. Когнитивная наука: прошлое, настоящее, будущее\n",
      "156. 50 герц и ниже: загадочные звуки на низких частотах\n"
     ]
    }
   ],
   "source": [
    "for i in range(len(titles)):\n",
    "    print(f'{i + 1}. {titles[i]}')"
   ]
  },
  {
   "cell_type": "code",
   "execution_count": 11,
   "metadata": {},
   "outputs": [
    {
     "data": {
      "text/plain": [
       "17"
      ]
     },
     "execution_count": 11,
     "metadata": {},
     "output_type": "execute_result"
    }
   ],
   "source": [
    "len(set(episodes['Link']))"
   ]
  },
  {
   "cell_type": "code",
   "execution_count": 12,
   "metadata": {},
   "outputs": [],
   "source": [
    "episodes.to_excel('C:/Users/User/Downloads/episodes_v2.xlsx', encoding='utf-8-sig')"
   ]
  },
  {
   "cell_type": "code",
   "execution_count": null,
   "metadata": {},
   "outputs": [],
   "source": [
    "# Drafts"
   ]
  },
  {
   "cell_type": "code",
   "execution_count": 60,
   "metadata": {},
   "outputs": [],
   "source": [
    "def get_episodes_metadata(podcasts_df):\n",
    "    \n",
    "    global episodes\n",
    "    \n",
    "    for link in podcasts_df['Link']:\n",
    "\n",
    "        driver.get(link)\n",
    "        driver.execute_script('window.scrollTo(0, document.body.scrollHeight);')\n",
    "        \n",
    "        link_index = podcasts_df.index[podcasts_df['Link'] == link][0]\n",
    "        podcast = podcasts_df['Header'][link_index]\n",
    "        \n",
    "        for i in range(podcasts_df['Number of Episodes'][link_index] + 1):\n",
    "            \n",
    "            titles = driver.find_elements_by_xpath('//a[@class=\"d-track__title deco-link deco-link_stronger line-clamp\"]')\n",
    "            durations = driver.find_elements_by_xpath('//span[@class=\"typo-track deco-typo-secondary\"]')\n",
    "            links = driver.find_elements_by_xpath('//*[contains(@href,\"/track/\")]')\n",
    "       \n",
    "            eps = {'Title': titles[i].text,\n",
    "                  'Podcast': podcasts,\n",
    "                  'Duration': durations[i].text, \n",
    "                  'Link': links[i].get_attribute('href')}\n",
    "\n",
    "            episodes = episodes.append(eps, ignore_index=True)\n",
    "            \n",
    "        print('1 done')"
   ]
  },
  {
   "cell_type": "code",
   "execution_count": null,
   "metadata": {},
   "outputs": [],
   "source": [
    "def get_episodes_metadata(podcasts_df):\n",
    "    \n",
    "    global episodes\n",
    "    \n",
    "    for link in podcasts_df['Link']:\n",
    "        \n",
    "        link_index = podcasts_df.index[podcasts_df['Link'] == link][0]\n",
    "        driver.get(link)\n",
    "        driver.execute_script('window.scrollTo(0, document.body.scrollHeight);')\n",
    "        \n",
    "        for i in range(podcasts_df['Number of Episodes'][link_index]):\n",
    "            \n",
    "            podcast = podcasts_df['Header'][link_index]\n",
    "            titles = driver.find_elements_by_xpath('//div[@class=\"d-track typo-track d-track_selectable d-track_inline-meta d-track_with-cover d-track_podcast\"]/div[@class=\"d-track__overflowable-column\"]/div[@class=\"d-track__overflowable-wrapper deco-typo-secondary block-layout\"]/div[@class=\"d-track__name\"]/a[@class=\"d-track__title deco-link deco-link_stronger line-clamp\"]')\n",
    "            durations = driver.find_elements_by_xpath('//span[@class=\"typo-track deco-typo-secondary\"]')\n",
    "       \n",
    "            ep = {'Title': titles[i].text,\n",
    "                  'Podcast': podcast,\n",
    "                  'Duration': durations[i].text}\n",
    "\n",
    "            episodes = episodes.append(ep, ignore_index=True)\n",
    "            \n",
    "        print(f'{podcasts_df.index[podcasts_df[\"Link\"] == link][0] + 1} out of {podcasts_df.shape[0]} done')"
   ]
  }
 ],
 "metadata": {
  "kernelspec": {
   "display_name": "Python 3 (ipykernel)",
   "language": "python",
   "name": "python3"
  },
  "language_info": {
   "codemirror_mode": {
    "name": "ipython",
    "version": 3
   },
   "file_extension": ".py",
   "mimetype": "text/x-python",
   "name": "python",
   "nbconvert_exporter": "python",
   "pygments_lexer": "ipython3",
   "version": "3.9.7"
  }
 },
 "nbformat": 4,
 "nbformat_minor": 4
}
